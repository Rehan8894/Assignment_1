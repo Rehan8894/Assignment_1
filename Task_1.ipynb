{
  "nbformat": 4,
  "nbformat_minor": 0,
  "metadata": {
    "colab": {
      "provenance": [],
      "authorship_tag": "ABX9TyN7D1eqDZ1E1nt5NCaC0NOx",
      "include_colab_link": true
    },
    "kernelspec": {
      "name": "python3",
      "display_name": "Python 3"
    },
    "language_info": {
      "name": "python"
    }
  },
  "cells": [
    {
      "cell_type": "markdown",
      "metadata": {
        "id": "view-in-github",
        "colab_type": "text"
      },
      "source": [
        "<a href=\"https://colab.research.google.com/github/Rehan8894/Assignment_1/blob/main/Task_1.ipynb\" target=\"_parent\"><img src=\"https://colab.research.google.com/assets/colab-badge.svg\" alt=\"Open In Colab\"/></a>"
      ]
    },
    {
      "cell_type": "code",
      "source": [
        "import os\n",
        "\n",
        "def add_contact(contacts_file):\n",
        "    name = input(\"Enter contact name: \")\n",
        "    phone = input(\"Enter phone number: \")\n",
        "    email = input(\"Enter email address: \")\n",
        "\n",
        "    with open(contacts_file, \"a\") as f:\n",
        "        f.write(f\"{name},{phone},{email}\\n\")\n",
        "    print(f\"Contact '{name}' added successfully.\")\n",
        "\n",
        "\n",
        "def view_contacts(contacts_file):\n",
        "    if not os.path.exists(contacts_file):\n",
        "        print(\"Contact file not found.\")\n",
        "        return\n",
        "\n",
        "    with open(contacts_file, \"r\") as f:\n",
        "        contacts = f.readlines()\n",
        "\n",
        "    if not contacts:\n",
        "        print(\"No contacts found.\")\n",
        "        return\n",
        "\n",
        "    print(\"Contacts:\")\n",
        "    for contact in contacts:\n",
        "      name, phone, email = contact.strip().split(',')\n",
        "      print(f\"Name: {name}, Phone: {phone}, Email: {email}\")\n",
        "\n",
        "\n",
        "def search_contact(contacts_file):\n",
        "  if not os.path.exists(contacts_file):\n",
        "    print(\"Contact file not found.\")\n",
        "    return\n",
        "\n",
        "  search_term = input(\"Enter search term (name, phone, or email): \")\n",
        "\n",
        "  with open(contacts_file, \"r\") as f:\n",
        "    contacts = f.readlines()\n",
        "\n",
        "  found_contacts = []\n",
        "  for contact in contacts:\n",
        "      name, phone, email = contact.strip().split(',')\n",
        "      if search_term.lower() in name.lower() or search_term in phone or search_term.lower() in email.lower():\n",
        "          found_contacts.append(contact.strip())\n",
        "\n",
        "  if found_contacts:\n",
        "    print(\"Matching contacts:\")\n",
        "    for contact in found_contacts:\n",
        "        name, phone, email = contact.split(',')\n",
        "        print(f\"Name: {name}, Phone: {phone}, Email: {email}\")\n",
        "\n",
        "  else:\n",
        "    print(\"No matching contacts found.\")\n",
        "\n",
        "\n",
        "def main():\n",
        "    contacts_file = \"contacts.txt\"  # Replace with your desired file path\n",
        "\n",
        "    while True:\n",
        "        print(\"\\nContact Book Menu:\")\n",
        "        print(\"1. Add Contact\")\n",
        "        print(\"2. View Contacts\")\n",
        "        print(\"3. Search Contact\")\n",
        "        print(\"4. Exit\")\n",
        "\n",
        "        choice = input(\"Enter your choice (1-4): \")\n",
        "\n",
        "        if choice == '1':\n",
        "            add_contact(contacts_file)\n",
        "        elif choice == '2':\n",
        "            view_contacts(contacts_file)\n",
        "        elif choice == '3':\n",
        "            search_contact(contacts_file)\n",
        "        elif choice == '4':\n",
        "            print(\"Exiting...\")\n",
        "            break\n",
        "        else:\n",
        "            print(\"Invalid choice. Please try again.\")\n",
        "\n",
        "if __name__ == \"__main__\":\n",
        "    main()"
      ],
      "metadata": {
        "colab": {
          "base_uri": "https://localhost:8080/"
        },
        "id": "Rydl1X-pwjuP",
        "outputId": "a53333c9-3203-4947-cdfc-6747fe7f41da"
      },
      "execution_count": null,
      "outputs": [
        {
          "output_type": "stream",
          "name": "stdout",
          "text": [
            "\n",
            "Contact Book Menu:\n",
            "1. Add Contact\n",
            "2. View Contacts\n",
            "3. Search Contact\n",
            "4. Exit\n"
          ]
        }
      ]
    },
    {
      "cell_type": "code",
      "source": [],
      "metadata": {
        "id": "tuRpI-pjwz-1"
      },
      "execution_count": null,
      "outputs": []
    }
  ]
}